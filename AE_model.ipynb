{
 "cells": [
  {
   "cell_type": "code",
   "execution_count": 1,
   "metadata": {},
   "outputs": [
    {
     "name": "stderr",
     "output_type": "stream",
     "text": [
      "Using TensorFlow backend.\n"
     ]
    }
   ],
   "source": [
    "import sys, os\n",
    "sys.path.append(os.path.join(os.path.dirname(os.path.realpath('__file__')), './utils/'))\n",
    "from data_processing import load_data_from_folder\n",
    "from feature_engineering import extract_fft\n",
    "from keras.models import Sequential, Model\n",
    "from keras.layers import Dense, Conv1D, MaxPool1D, Input, UpSampling1D\n",
    "import keras.backend as K\n",
    "from cnn_layers import Conv1DTranspose\n",
    "import keras\n",
    "import numpy as np\n",
    "import seaborn as sns\n",
    "from sklearn.preprocessing import scale\n",
    "from obspy.signal.filter import bandpass\n",
    "from sklearn.model_selection import train_test_split\n",
    "from matplotlib import pyplot as plt\n",
    "from metrics import mae\n",
    "from testing import create_array_score\n",
    "import pandas as pd\n",
    "from visualization import set_font_size"
   ]
  },
  {
   "cell_type": "code",
   "execution_count": 2,
   "metadata": {
    "collapsed": true
   },
   "outputs": [],
   "source": [
    "os.environ[\"CUDA_DEVICE_ORDER\"]=\"PCI_BUS_ID\"   # see issue #152\n",
    "os.environ[\"CUDA_VISIBLE_DEVICES\"]=\"3\""
   ]
  },
  {
   "cell_type": "code",
   "execution_count": 3,
   "metadata": {
    "collapsed": true
   },
   "outputs": [],
   "source": [
    "import keras.backend.tensorflow_backend as ktf\n",
    "import tensorflow as tf\n",
    "def get_session(gpu_fraction=0.5):\n",
    "    gpu_options = tf.GPUOptions(per_process_gpu_memory_fraction=gpu_fraction,\n",
    "                                allow_growth=True)\n",
    "    return tf.Session(config=tf.ConfigProto(gpu_options=gpu_options))\n",
    "\n",
    "ktf.set_session(get_session())"
   ]
  },
  {
   "cell_type": "markdown",
   "metadata": {},
   "source": [
    "# Load data"
   ]
  },
  {
   "cell_type": "code",
   "execution_count": 4,
   "metadata": {
    "collapsed": true
   },
   "outputs": [],
   "source": [
    "df_ok = load_data_from_folder('./data/OK')"
   ]
  },
  {
   "cell_type": "code",
   "execution_count": 5,
   "metadata": {
    "collapsed": true
   },
   "outputs": [],
   "source": [
    "df_ng = load_data_from_folder('./data/NG')"
   ]
  },
  {
   "cell_type": "code",
   "execution_count": 6,
   "metadata": {},
   "outputs": [
    {
     "name": "stdout",
     "output_type": "stream",
     "text": [
      "(243938, 1)\n"
     ]
    }
   ],
   "source": [
    "print(df_ok.iloc[0]['acc'].shape)"
   ]
  },
  {
   "cell_type": "markdown",
   "metadata": {},
   "source": [
    "# Feature Engineering"
   ]
  },
  {
   "cell_type": "code",
   "execution_count": 7,
   "metadata": {
    "collapsed": true
   },
   "outputs": [],
   "source": [
    "NFFT = 2048\n",
    "FRAME_LEN = 4096\n",
    "SLIDE_WINDOW = 128"
   ]
  },
  {
   "cell_type": "code",
   "execution_count": 42,
   "metadata": {},
   "outputs": [],
   "source": [
    "extract_fft(df_ok, nfft=NFFT, frame_len=FRAME_LEN, slide_window=SLIDE_WINDOW)"
   ]
  },
  {
   "cell_type": "code",
   "execution_count": 43,
   "metadata": {},
   "outputs": [],
   "source": [
    "extract_fft(df_ng)"
   ]
  },
  {
   "cell_type": "markdown",
   "metadata": {},
   "source": [
    "# Preparing data for training and testing"
   ]
  },
  {
   "cell_type": "code",
   "execution_count": 44,
   "metadata": {},
   "outputs": [
    {
     "name": "stdout",
     "output_type": "stream",
     "text": [
      "(1499, 1024, 1) (375, 1024, 1)\n"
     ]
    }
   ],
   "source": [
    "train_data, test_data = train_test_split(df_ok.iloc[0]['fft'], test_size=0.2, random_state=42)\n",
    "print(train_data.shape, test_data.shape)"
   ]
  },
  {
   "cell_type": "markdown",
   "metadata": {},
   "source": [
    "# Create and Train Model"
   ]
  },
  {
   "cell_type": "code",
   "execution_count": 45,
   "metadata": {},
   "outputs": [
    {
     "name": "stdout",
     "output_type": "stream",
     "text": [
      "_________________________________________________________________\n",
      "Layer (type)                 Output Shape              Param #   \n",
      "=================================================================\n",
      "input_3 (InputLayer)         (None, 1024, 1)           0         \n",
      "_________________________________________________________________\n",
      "conv1d_7 (Conv1D)            (None, 512, 128)          768       \n",
      "_________________________________________________________________\n",
      "max_pooling1d_5 (MaxPooling1 (None, 256, 128)          0         \n",
      "_________________________________________________________________\n",
      "conv1d_8 (Conv1D)            (None, 128, 256)          164096    \n",
      "_________________________________________________________________\n",
      "max_pooling1d_6 (MaxPooling1 (None, 64, 256)           0         \n",
      "_________________________________________________________________\n",
      "conv1d_9 (Conv1D)            (None, 32, 512)           655872    \n",
      "_________________________________________________________________\n",
      "lambda_13 (Lambda)           (None, 32, 1, 512)        0         \n",
      "_________________________________________________________________\n",
      "conv2d_transpose_7 (Conv2DTr (None, 64, 1, 256)        655616    \n",
      "_________________________________________________________________\n",
      "lambda_14 (Lambda)           (None, 64, 256)           0         \n",
      "_________________________________________________________________\n",
      "up_sampling1d_5 (UpSampling1 (None, 128, 256)          0         \n",
      "_________________________________________________________________\n",
      "lambda_15 (Lambda)           (None, 128, 1, 256)       0         \n",
      "_________________________________________________________________\n",
      "conv2d_transpose_8 (Conv2DTr (None, 256, 1, 128)       163968    \n",
      "_________________________________________________________________\n",
      "lambda_16 (Lambda)           (None, 256, 128)          0         \n",
      "_________________________________________________________________\n",
      "up_sampling1d_6 (UpSampling1 (None, 512, 128)          0         \n",
      "_________________________________________________________________\n",
      "lambda_17 (Lambda)           (None, 512, 1, 128)       0         \n",
      "_________________________________________________________________\n",
      "conv2d_transpose_9 (Conv2DTr (None, 1024, 1, 1)        641       \n",
      "_________________________________________________________________\n",
      "lambda_18 (Lambda)           (None, 1024, 1)           0         \n",
      "=================================================================\n",
      "Total params: 1,640,961\n",
      "Trainable params: 1,640,961\n",
      "Non-trainable params: 0\n",
      "_________________________________________________________________\n"
     ]
    }
   ],
   "source": [
    "inputs = Input(shape=(1024, 1))\n",
    "encoder = Conv1D(filters=128, kernel_size=5, strides=2, padding='same', activation='relu')(inputs)\n",
    "encoder = MaxPool1D()(encoder)\n",
    "encoder = Conv1D(filters=256, kernel_size=5, strides=2, padding='same', activation='relu')(encoder)\n",
    "encoder = MaxPool1D()(encoder)\n",
    "encoder = Conv1D(filters=512, kernel_size=5, strides=2, padding='same', activation='relu')(encoder)\n",
    "\n",
    "decoder = Conv1DTranspose(encoder, filters=256, kernel_size=5, strides=2, padding='same', activation='relu')\n",
    "decoder = UpSampling1D()(decoder)\n",
    "decoder = Conv1DTranspose(decoder, filters=128, kernel_size=5, strides=2, padding='same', activation='relu')\n",
    "decoder = UpSampling1D()(decoder)\n",
    "outputs = Conv1DTranspose(decoder, filters=1, kernel_size=5, strides=2, padding='same', activation='relu')\n",
    "\n",
    "model = Model(inputs, outputs)\n",
    "model.summary()"
   ]
  },
  {
   "cell_type": "code",
   "execution_count": 46,
   "metadata": {},
   "outputs": [],
   "source": [
    "model.compile(optimizer=keras.optimizers.Adam(lr=0.001), loss='mae')"
   ]
  },
  {
   "cell_type": "code",
   "execution_count": 47,
   "metadata": {},
   "outputs": [
    {
     "name": "stdout",
     "output_type": "stream",
     "text": [
      "Train on 1199 samples, validate on 300 samples\n",
      "Epoch 1/5\n",
      "1199/1199 [==============================] - 2s 2ms/step - loss: 0.6213 - val_loss: 0.5185\n",
      "Epoch 2/5\n",
      "1199/1199 [==============================] - 1s 798us/step - loss: 0.4647 - val_loss: 0.4094\n",
      "Epoch 3/5\n",
      "1199/1199 [==============================] - 1s 796us/step - loss: 0.3911 - val_loss: 0.3796\n",
      "Epoch 4/5\n",
      "1199/1199 [==============================] - 1s 796us/step - loss: 0.3693 - val_loss: 0.3681\n",
      "Epoch 5/5\n",
      "1199/1199 [==============================] - 1s 795us/step - loss: 0.3584 - val_loss: 0.3504\n"
     ]
    }
   ],
   "source": [
    "history = model.fit(train_data, train_data, batch_size=32, epochs=5, validation_split=0.2)"
   ]
  },
  {
   "cell_type": "code",
   "execution_count": 48,
   "metadata": {},
   "outputs": [
    {
     "data": {
      "text/plain": [
       "Text(0,0.5,'MAE')"
      ]
     },
     "execution_count": 48,
     "metadata": {},
     "output_type": "execute_result"
    },
    {
     "data": {
      "image/png": "[encoded data removed]",
      "text/plain": [
       "<Figure size 432x288 with 1 Axes>"
      ]
     },
     "metadata": {},
     "output_type": "display_data"
    }
   ],
   "source": [
    "plt.plot(history.history['loss'], c='blue')\n",
    "plt.plot(history.history['val_loss'], c='orange')\n",
    "plt.title('Training loss')\n",
    "plt.xlabel('Epochs')\n",
    "plt.ylabel('MAE')"
   ]
  },
  {
   "cell_type": "markdown",
   "metadata": {},
   "source": [
    "# Testing Model"
   ]
  },
  {
   "cell_type": "code",
   "execution_count": 49,
   "metadata": {
    "collapsed": true
   },
   "outputs": [],
   "source": [
    "scores = np.ndarray((0, 5))"
   ]
  },
  {
   "cell_type": "code",
   "execution_count": 50,
   "metadata": {},
   "outputs": [],
   "source": [
    "y_pred = model.predict(train_data, batch_size=32)\n",
    "train_score = mae(train_data, y_pred)     \n",
    "score = create_array_score('Train', '97', 'Train', 0, train_score)\n",
    "scores = np.vstack([scores, score])"
   ]
  },
  {
   "cell_type": "code",
   "execution_count": 51,
   "metadata": {
    "collapsed": true
   },
   "outputs": [],
   "source": [
    "y_pred = model.predict(test_data, batch_size=32)\n",
    "score = mae(test_data, y_pred)     \n",
    "score = create_array_score('97', '97', 'normal', 0, score)\n",
    "scores = np.vstack([scores, score])"
   ]
  },
  {
   "cell_type": "code",
   "execution_count": 52,
   "metadata": {
    "collapsed": true
   },
   "outputs": [],
   "source": [
    "for i,row in df_ng.iterrows():\n",
    "    y_pred = model.predict(row['fft'], batch_size=32)\n",
    "    score = mae(row['fft'], y_pred)     \n",
    "    score = create_array_score(row['id'], row['id'], row['label'], row['label_number'], score)\n",
    "    scores = np.vstack([scores, score])"
   ]
  },
  {
   "cell_type": "code",
   "execution_count": 53,
   "metadata": {},
   "outputs": [],
   "source": [
    "df_score = pd.DataFrame(scores)\n",
    "df_score.columns = ['ID', 'Target', 'MAE', 'Label', 'label_number']\n",
    "df_score['MAE'] = df_score['MAE'].astype('float')"
   ]
  },
  {
   "cell_type": "code",
   "execution_count": 56,
   "metadata": {},
   "outputs": [
    {
     "data": {
      "image/png": "[encoded data removed]",
      "text/plain": [
       "<Figure size 2267.5x504 with 1 Axes>"
      ]
     },
     "metadata": {},
     "output_type": "display_data"
    }
   ],
   "source": [
    "set_font_size(30)\n",
    "    \n",
    "g = sns.catplot(data=df_score, x='ID', y='MAE', kind='point', hue='Label', palette=['blue', 'blue', 'red'], \n",
    "                markers=['*', 'o','x'], aspect=4, height=7, join=False, ci=None, scale=2)\n",
    "g.set_xticklabels(rotation=60)\n",
    "plt.title('')\n",
    "plt.ylim(0, 8)\n",
    "plt.show()"
   ]
  },
  {
   "cell_type": "code",
   "execution_count": null,
   "metadata": {
    "collapsed": true
   },
   "outputs": [],
   "source": []
  }
 ],
 "metadata": {
  "kernelspec": {
   "display_name": "python3.6",
   "language": "python",
   "name": "py36"
  },
  "language_info": {
   "codemirror_mode": {
    "name": "ipython",
    "version": 3
   },
   "file_extension": ".py",
   "mimetype": "text/x-python",
   "name": "python",
   "nbconvert_exporter": "python",
   "pygments_lexer": "ipython3",
   "version": "3.6.4"
  }
 },
 "nbformat": 4,
 "nbformat_minor": 2
}
